{
 "cells": [
  {
   "cell_type": "code",
   "execution_count": 1,
   "metadata": {
    "collapsed": true
   },
   "outputs": [],
   "source": [
    "import numpy as np\n",
    "import pandas as pd\n",
    "import matplotlib.pyplot as plt\n",
    "%matplotlib inline"
   ]
  },
  {
   "cell_type": "code",
   "execution_count": 3,
   "metadata": {},
   "outputs": [],
   "source": [
    "submissions = pd.read_csv(\"sample_submission/sample_submission_stg1.csv\")"
   ]
  },
  {
   "cell_type": "code",
   "execution_count": 4,
   "metadata": {},
   "outputs": [
    {
     "data": {
      "text/html": [
       "<div>\n",
       "<table border=\"1\" class=\"dataframe\">\n",
       "  <thead>\n",
       "    <tr style=\"text-align: right;\">\n",
       "      <th></th>\n",
       "      <th>image</th>\n",
       "      <th>ALB</th>\n",
       "      <th>BET</th>\n",
       "      <th>DOL</th>\n",
       "      <th>LAG</th>\n",
       "      <th>NoF</th>\n",
       "      <th>OTHER</th>\n",
       "      <th>SHARK</th>\n",
       "      <th>YFT</th>\n",
       "    </tr>\n",
       "  </thead>\n",
       "  <tbody>\n",
       "    <tr>\n",
       "      <th>0</th>\n",
       "      <td>img_00005.jpg</td>\n",
       "      <td>0.455003</td>\n",
       "      <td>0.052938</td>\n",
       "      <td>0.030969</td>\n",
       "      <td>0.017734</td>\n",
       "      <td>0.123081</td>\n",
       "      <td>0.079142</td>\n",
       "      <td>0.046585</td>\n",
       "      <td>0.194283</td>\n",
       "    </tr>\n",
       "    <tr>\n",
       "      <th>1</th>\n",
       "      <td>img_00007.jpg</td>\n",
       "      <td>0.455003</td>\n",
       "      <td>0.052938</td>\n",
       "      <td>0.030969</td>\n",
       "      <td>0.017734</td>\n",
       "      <td>0.123081</td>\n",
       "      <td>0.079142</td>\n",
       "      <td>0.046585</td>\n",
       "      <td>0.194283</td>\n",
       "    </tr>\n",
       "    <tr>\n",
       "      <th>2</th>\n",
       "      <td>img_00009.jpg</td>\n",
       "      <td>0.455003</td>\n",
       "      <td>0.052938</td>\n",
       "      <td>0.030969</td>\n",
       "      <td>0.017734</td>\n",
       "      <td>0.123081</td>\n",
       "      <td>0.079142</td>\n",
       "      <td>0.046585</td>\n",
       "      <td>0.194283</td>\n",
       "    </tr>\n",
       "    <tr>\n",
       "      <th>3</th>\n",
       "      <td>img_00018.jpg</td>\n",
       "      <td>0.455003</td>\n",
       "      <td>0.052938</td>\n",
       "      <td>0.030969</td>\n",
       "      <td>0.017734</td>\n",
       "      <td>0.123081</td>\n",
       "      <td>0.079142</td>\n",
       "      <td>0.046585</td>\n",
       "      <td>0.194283</td>\n",
       "    </tr>\n",
       "    <tr>\n",
       "      <th>4</th>\n",
       "      <td>img_00027.jpg</td>\n",
       "      <td>0.455003</td>\n",
       "      <td>0.052938</td>\n",
       "      <td>0.030969</td>\n",
       "      <td>0.017734</td>\n",
       "      <td>0.123081</td>\n",
       "      <td>0.079142</td>\n",
       "      <td>0.046585</td>\n",
       "      <td>0.194283</td>\n",
       "    </tr>\n",
       "  </tbody>\n",
       "</table>\n",
       "</div>"
      ],
      "text/plain": [
       "           image       ALB       BET       DOL       LAG       NoF     OTHER  \\\n",
       "0  img_00005.jpg  0.455003  0.052938  0.030969  0.017734  0.123081  0.079142   \n",
       "1  img_00007.jpg  0.455003  0.052938  0.030969  0.017734  0.123081  0.079142   \n",
       "2  img_00009.jpg  0.455003  0.052938  0.030969  0.017734  0.123081  0.079142   \n",
       "3  img_00018.jpg  0.455003  0.052938  0.030969  0.017734  0.123081  0.079142   \n",
       "4  img_00027.jpg  0.455003  0.052938  0.030969  0.017734  0.123081  0.079142   \n",
       "\n",
       "      SHARK       YFT  \n",
       "0  0.046585  0.194283  \n",
       "1  0.046585  0.194283  \n",
       "2  0.046585  0.194283  \n",
       "3  0.046585  0.194283  \n",
       "4  0.046585  0.194283  "
      ]
     },
     "execution_count": 4,
     "metadata": {},
     "output_type": "execute_result"
    }
   ],
   "source": [
    "submissions.head()"
   ]
  },
  {
   "cell_type": "code",
   "execution_count": 5,
   "metadata": {},
   "outputs": [
    {
     "data": {
      "text/plain": [
       "(1000, 9)"
      ]
     },
     "execution_count": 5,
     "metadata": {},
     "output_type": "execute_result"
    }
   ],
   "source": [
    "submissions.shape"
   ]
  },
  {
   "cell_type": "code",
   "execution_count": 6,
   "metadata": {
    "collapsed": true
   },
   "outputs": [],
   "source": [
    "columns = list(submissions.columns)"
   ]
  },
  {
   "cell_type": "code",
   "execution_count": 13,
   "metadata": {},
   "outputs": [],
   "source": [
    "random = pd.DataFrame(np.random.random_sample(size=(1000,9)),columns = columns)"
   ]
  },
  {
   "cell_type": "code",
   "execution_count": 14,
   "metadata": {},
   "outputs": [
    {
     "data": {
      "text/html": [
       "<div>\n",
       "<table border=\"1\" class=\"dataframe\">\n",
       "  <thead>\n",
       "    <tr style=\"text-align: right;\">\n",
       "      <th></th>\n",
       "      <th>image</th>\n",
       "      <th>ALB</th>\n",
       "      <th>BET</th>\n",
       "      <th>DOL</th>\n",
       "      <th>LAG</th>\n",
       "      <th>NoF</th>\n",
       "      <th>OTHER</th>\n",
       "      <th>SHARK</th>\n",
       "      <th>YFT</th>\n",
       "    </tr>\n",
       "  </thead>\n",
       "  <tbody>\n",
       "    <tr>\n",
       "      <th>0</th>\n",
       "      <td>0.839579</td>\n",
       "      <td>0.855175</td>\n",
       "      <td>0.945205</td>\n",
       "      <td>0.141212</td>\n",
       "      <td>0.579779</td>\n",
       "      <td>0.983546</td>\n",
       "      <td>0.390744</td>\n",
       "      <td>0.656121</td>\n",
       "      <td>0.911831</td>\n",
       "    </tr>\n",
       "    <tr>\n",
       "      <th>1</th>\n",
       "      <td>0.908327</td>\n",
       "      <td>0.647327</td>\n",
       "      <td>0.291706</td>\n",
       "      <td>0.970818</td>\n",
       "      <td>0.729577</td>\n",
       "      <td>0.717430</td>\n",
       "      <td>0.863081</td>\n",
       "      <td>0.262225</td>\n",
       "      <td>0.220212</td>\n",
       "    </tr>\n",
       "    <tr>\n",
       "      <th>2</th>\n",
       "      <td>0.936683</td>\n",
       "      <td>0.177590</td>\n",
       "      <td>0.862677</td>\n",
       "      <td>0.934528</td>\n",
       "      <td>0.381837</td>\n",
       "      <td>0.655252</td>\n",
       "      <td>0.787673</td>\n",
       "      <td>0.572202</td>\n",
       "      <td>0.101325</td>\n",
       "    </tr>\n",
       "    <tr>\n",
       "      <th>3</th>\n",
       "      <td>0.318607</td>\n",
       "      <td>0.212341</td>\n",
       "      <td>0.886886</td>\n",
       "      <td>0.140888</td>\n",
       "      <td>0.156922</td>\n",
       "      <td>0.518755</td>\n",
       "      <td>0.203880</td>\n",
       "      <td>0.233374</td>\n",
       "      <td>0.611417</td>\n",
       "    </tr>\n",
       "    <tr>\n",
       "      <th>4</th>\n",
       "      <td>0.169347</td>\n",
       "      <td>0.871152</td>\n",
       "      <td>0.130755</td>\n",
       "      <td>0.717898</td>\n",
       "      <td>0.664626</td>\n",
       "      <td>0.123841</td>\n",
       "      <td>0.889616</td>\n",
       "      <td>0.213999</td>\n",
       "      <td>0.002460</td>\n",
       "    </tr>\n",
       "  </tbody>\n",
       "</table>\n",
       "</div>"
      ],
      "text/plain": [
       "      image       ALB       BET       DOL       LAG       NoF     OTHER  \\\n",
       "0  0.839579  0.855175  0.945205  0.141212  0.579779  0.983546  0.390744   \n",
       "1  0.908327  0.647327  0.291706  0.970818  0.729577  0.717430  0.863081   \n",
       "2  0.936683  0.177590  0.862677  0.934528  0.381837  0.655252  0.787673   \n",
       "3  0.318607  0.212341  0.886886  0.140888  0.156922  0.518755  0.203880   \n",
       "4  0.169347  0.871152  0.130755  0.717898  0.664626  0.123841  0.889616   \n",
       "\n",
       "      SHARK       YFT  \n",
       "0  0.656121  0.911831  \n",
       "1  0.262225  0.220212  \n",
       "2  0.572202  0.101325  \n",
       "3  0.233374  0.611417  \n",
       "4  0.213999  0.002460  "
      ]
     },
     "execution_count": 14,
     "metadata": {},
     "output_type": "execute_result"
    }
   ],
   "source": [
    "random.head()"
   ]
  },
  {
   "cell_type": "code",
   "execution_count": 15,
   "metadata": {
    "collapsed": true
   },
   "outputs": [],
   "source": [
    "random[\"image\"] = submissions[\"image\"]"
   ]
  },
  {
   "cell_type": "code",
   "execution_count": 16,
   "metadata": {
    "collapsed": true
   },
   "outputs": [],
   "source": [
    "random.to_csv(\"baseline.csv\",index = False)"
   ]
  },
  {
   "cell_type": "markdown",
   "metadata": {},
   "source": [
    "### Kaggle score : 2.41669"
   ]
  },
  {
   "cell_type": "code",
   "execution_count": null,
   "metadata": {
    "collapsed": true
   },
   "outputs": [],
   "source": []
  }
 ],
 "metadata": {
  "kernelspec": {
   "display_name": "Python 2",
   "language": "python",
   "name": "python2"
  },
  "language_info": {
   "codemirror_mode": {
    "name": "ipython",
    "version": 2
   },
   "file_extension": ".py",
   "mimetype": "text/x-python",
   "name": "python",
   "nbconvert_exporter": "python",
   "pygments_lexer": "ipython2",
   "version": "2.7.14"
  }
 },
 "nbformat": 4,
 "nbformat_minor": 1
}
